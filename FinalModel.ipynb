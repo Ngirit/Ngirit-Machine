{
  "cells": [
    {
      "cell_type": "markdown",
      "metadata": {
        "id": "w7Tluw4D1g4W"
      },
      "source": [
        "# **MODEL**"
      ]
    },
    {
      "cell_type": "code",
      "execution_count": 1,
      "metadata": {
        "id": "JlEteg7hibjK"
      },
      "outputs": [],
      "source": [
        "import pandas as pd\n",
        "import numpy as np\n",
        "import tensorflow as tf\n",
        "import matplotlib.pyplot as plt\n",
        "import os\n",
        "\n",
        "from sklearn.feature_extraction.text import CountVectorizer\n",
        "from sklearn.metrics.pairwise import cosine_similarity\n",
        "\n",
        "from sklearn.preprocessing import LabelEncoder\n",
        "from sklearn.model_selection import train_test_split"
      ]
    },
    {
      "cell_type": "code",
      "execution_count": 2,
      "metadata": {
        "colab": {
          "base_uri": "https://localhost:8080/"
        },
        "id": "ezEXQCxGidTx",
        "outputId": "20219d97-f7b6-4f62-d681-d13accca8990"
      },
      "outputs": [
        {
          "output_type": "stream",
          "name": "stdout",
          "text": [
            "Downloading...\n",
            "From: https://drive.google.com/uc?id=1RZmZ0UaQzzxJZtmTpy3tg_rKBG0CDVRo\n",
            "To: /content/ngirit_datasetnew.csv\n",
            "\r  0% 0.00/1.16M [00:00<?, ?B/s]\r100% 1.16M/1.16M [00:00<00:00, 130MB/s]\n"
          ]
        }
      ],
      "source": [
        "!gdown -- 1RZmZ0UaQzzxJZtmTpy3tg_rKBG0CDVRo"
      ]
    },
    {
      "cell_type": "markdown",
      "metadata": {
        "id": "ksTw2VSBbcKx"
      },
      "source": []
    },
    {
      "cell_type": "code",
      "execution_count": 3,
      "metadata": {
        "id": "20tPBkvfie4r"
      },
      "outputs": [],
      "source": [
        "# Load and preprocess your dataset\n",
        "data = pd.read_csv('ngirit_datasetnew.csv')"
      ]
    },
    {
      "cell_type": "code",
      "execution_count": 4,
      "metadata": {
        "id": "rAKUrBiyrZK5"
      },
      "outputs": [],
      "source": [
        "data = data.drop('merchant_area',axis=1).replace(to_replace = 'NAN', value=np.NaN)\n",
        "data['rating'] = pd.to_numeric(data['rating'])\n",
        "data['rating'].fillna(float(data['rating'].mean()),inplace=True)"
      ]
    },
    {
      "cell_type": "code",
      "execution_count": 5,
      "metadata": {
        "id": "hZNYwurCZFa_"
      },
      "outputs": [],
      "source": [
        "# Encode the target variable\n",
        "label_encoder = LabelEncoder()\n",
        "data['sub_category_encoded'] = label_encoder.fit_transform(data['sub_category'])"
      ]
    },
    {
      "cell_type": "code",
      "execution_count": 6,
      "metadata": {
        "id": "V0hyS42EiiAW"
      },
      "outputs": [],
      "source": [
        "# Combining relevant columns to create text for cosine similarity calculation\n",
        "data['combined_features'] = data[['merchant_name', 'main_category', 'sub_category', 'product']].apply(lambda x: ' '.join(x), axis=1)"
      ]
    },
    {
      "cell_type": "code",
      "execution_count": 7,
      "metadata": {
        "id": "SCg_Ir_mijyX"
      },
      "outputs": [],
      "source": [
        "# Create a keyword matching matrix using CountVectorizer\n",
        "cv = CountVectorizer()\n",
        "X = cv.fit_transform(data['combined_features'])"
      ]
    },
    {
      "cell_type": "code",
      "execution_count": 8,
      "metadata": {
        "id": "0oRPHlNLpLiV"
      },
      "outputs": [],
      "source": [
        "# Split the dataset into train and test sets\n",
        "y = data['sub_category_encoded']\n",
        "X_train, X_test, y_train, y_test = train_test_split(X, y, test_size=0.2, random_state=42)"
      ]
    },
    {
      "cell_type": "code",
      "execution_count": 9,
      "metadata": {
        "id": "wXTZ_nrWYmgf"
      },
      "outputs": [],
      "source": [
        "# Convert the sparse matrix to a dense matrix\n",
        "X_train = X_train.toarray()\n",
        "X_test = X_test.toarray()"
      ]
    },
    {
      "cell_type": "code",
      "source": [
        "# Early Stopping\n",
        "early_stopping = tf.keras.callbacks.EarlyStopping(patience=5)"
      ],
      "metadata": {
        "id": "ioG-9jpWu0m9"
      },
      "execution_count": 10,
      "outputs": []
    },
    {
      "cell_type": "code",
      "execution_count": 11,
      "metadata": {
        "id": "BCPJ4TLlO6X0"
      },
      "outputs": [],
      "source": [
        "# Define the model architecture\n",
        "model = tf.keras.Sequential([\n",
        "    tf.keras.layers.Dense(128, activation='relu', kernel_regularizer=tf.keras.regularizers.l2(0.1),\n",
        "                          input_shape=(X_train.shape[1],)),\n",
        "    tf.keras.layers.Dropout(0.5),\n",
        "    tf.keras.layers.Dense(64, activation='relu', kernel_regularizer=tf.keras.regularizers.l2(0.01)),\n",
        "    tf.keras.layers.Dropout(0.5),\n",
        "    tf.keras.layers.Dense(len(np.unique(y_train)), activation='softmax')\n",
        "])"
      ]
    },
    {
      "cell_type": "code",
      "source": [
        "# Adjust the learning rate\n",
        "optimizer = tf.keras.optimizers.Adam(learning_rate=0.001)"
      ],
      "metadata": {
        "id": "OuOTdSS_u4Y1"
      },
      "execution_count": 12,
      "outputs": []
    },
    {
      "cell_type": "code",
      "execution_count": 13,
      "metadata": {
        "id": "Qe5ZLH3qO76m"
      },
      "outputs": [],
      "source": [
        "# Compile the Model\n",
        "model.compile(optimizer=optimizer,\n",
        "              loss='sparse_categorical_crossentropy',\n",
        "              metrics=['accuracy'])"
      ]
    },
    {
      "cell_type": "code",
      "execution_count": 14,
      "metadata": {
        "colab": {
          "base_uri": "https://localhost:8080/"
        },
        "id": "R4nN3HiiO8d3",
        "outputId": "4426d881-2a04-41e2-856f-4166315e6dac"
      },
      "outputs": [
        {
          "output_type": "stream",
          "name": "stdout",
          "text": [
            "Epoch 1/100\n",
            "274/274 [==============================] - 6s 17ms/step - loss: 3.2481 - accuracy: 0.5637 - val_loss: 1.4590 - val_accuracy: 0.7696\n",
            "Epoch 2/100\n",
            "274/274 [==============================] - 5s 20ms/step - loss: 1.4397 - accuracy: 0.7878 - val_loss: 1.2207 - val_accuracy: 0.8727\n",
            "Epoch 3/100\n",
            "274/274 [==============================] - 5s 17ms/step - loss: 1.2794 - accuracy: 0.8354 - val_loss: 1.0910 - val_accuracy: 0.8960\n",
            "Epoch 4/100\n",
            "274/274 [==============================] - 5s 19ms/step - loss: 1.1767 - accuracy: 0.8599 - val_loss: 0.9990 - val_accuracy: 0.9092\n",
            "Epoch 5/100\n",
            "274/274 [==============================] - 5s 19ms/step - loss: 1.1080 - accuracy: 0.8700 - val_loss: 0.9414 - val_accuracy: 0.9120\n",
            "Epoch 6/100\n",
            "274/274 [==============================] - 5s 17ms/step - loss: 1.0503 - accuracy: 0.8830 - val_loss: 0.8922 - val_accuracy: 0.9206\n",
            "Epoch 7/100\n",
            "274/274 [==============================] - 5s 20ms/step - loss: 1.0021 - accuracy: 0.8929 - val_loss: 0.8453 - val_accuracy: 0.9329\n",
            "Epoch 8/100\n",
            "274/274 [==============================] - 5s 17ms/step - loss: 0.9666 - accuracy: 0.8958 - val_loss: 0.8171 - val_accuracy: 0.9275\n",
            "Epoch 9/100\n",
            "274/274 [==============================] - 5s 17ms/step - loss: 0.9263 - accuracy: 0.9010 - val_loss: 0.7802 - val_accuracy: 0.9380\n",
            "Epoch 10/100\n",
            "274/274 [==============================] - 6s 21ms/step - loss: 0.9067 - accuracy: 0.9042 - val_loss: 0.7839 - val_accuracy: 0.9366\n",
            "Epoch 11/100\n",
            "274/274 [==============================] - 3s 11ms/step - loss: 0.8764 - accuracy: 0.9052 - val_loss: 0.7445 - val_accuracy: 0.9494\n",
            "Epoch 12/100\n",
            "274/274 [==============================] - 3s 10ms/step - loss: 0.8603 - accuracy: 0.9098 - val_loss: 0.7221 - val_accuracy: 0.9489\n",
            "Epoch 13/100\n",
            "274/274 [==============================] - 3s 10ms/step - loss: 0.8422 - accuracy: 0.9103 - val_loss: 0.7118 - val_accuracy: 0.9457\n",
            "Epoch 14/100\n",
            "274/274 [==============================] - 4s 14ms/step - loss: 0.8144 - accuracy: 0.9140 - val_loss: 0.7101 - val_accuracy: 0.9425\n",
            "Epoch 15/100\n",
            "274/274 [==============================] - 3s 10ms/step - loss: 0.8051 - accuracy: 0.9149 - val_loss: 0.6709 - val_accuracy: 0.9439\n",
            "Epoch 16/100\n",
            "274/274 [==============================] - 3s 10ms/step - loss: 0.8027 - accuracy: 0.9178 - val_loss: 0.6668 - val_accuracy: 0.9393\n",
            "Epoch 17/100\n",
            "274/274 [==============================] - 3s 10ms/step - loss: 0.7744 - accuracy: 0.9221 - val_loss: 0.6440 - val_accuracy: 0.9498\n",
            "Epoch 18/100\n",
            "274/274 [==============================] - 4s 13ms/step - loss: 0.7649 - accuracy: 0.9215 - val_loss: 0.6451 - val_accuracy: 0.9503\n",
            "Epoch 19/100\n",
            "274/274 [==============================] - 3s 11ms/step - loss: 0.7529 - accuracy: 0.9212 - val_loss: 0.6381 - val_accuracy: 0.9448\n",
            "Epoch 20/100\n",
            "274/274 [==============================] - 3s 10ms/step - loss: 0.7392 - accuracy: 0.9249 - val_loss: 0.6304 - val_accuracy: 0.9484\n",
            "Epoch 21/100\n",
            "274/274 [==============================] - 3s 10ms/step - loss: 0.7312 - accuracy: 0.9293 - val_loss: 0.6245 - val_accuracy: 0.9453\n",
            "Epoch 22/100\n",
            "274/274 [==============================] - 3s 12ms/step - loss: 0.7165 - accuracy: 0.9297 - val_loss: 0.6087 - val_accuracy: 0.9443\n",
            "Epoch 23/100\n",
            "274/274 [==============================] - 3s 11ms/step - loss: 0.7105 - accuracy: 0.9302 - val_loss: 0.5916 - val_accuracy: 0.9580\n",
            "Epoch 24/100\n",
            "274/274 [==============================] - 3s 10ms/step - loss: 0.7026 - accuracy: 0.9298 - val_loss: 0.5964 - val_accuracy: 0.9453\n",
            "Epoch 25/100\n",
            "274/274 [==============================] - 3s 10ms/step - loss: 0.6854 - accuracy: 0.9319 - val_loss: 0.5777 - val_accuracy: 0.9571\n",
            "Epoch 26/100\n",
            "274/274 [==============================] - 3s 10ms/step - loss: 0.6879 - accuracy: 0.9339 - val_loss: 0.5941 - val_accuracy: 0.9539\n",
            "Epoch 27/100\n",
            "274/274 [==============================] - 4s 13ms/step - loss: 0.6808 - accuracy: 0.9335 - val_loss: 0.5737 - val_accuracy: 0.9617\n",
            "Epoch 28/100\n",
            "274/274 [==============================] - 3s 10ms/step - loss: 0.6747 - accuracy: 0.9343 - val_loss: 0.5847 - val_accuracy: 0.9567\n",
            "Epoch 29/100\n",
            "274/274 [==============================] - 3s 10ms/step - loss: 0.6691 - accuracy: 0.9344 - val_loss: 0.5566 - val_accuracy: 0.9635\n",
            "Epoch 30/100\n",
            "274/274 [==============================] - 3s 10ms/step - loss: 0.6538 - accuracy: 0.9382 - val_loss: 0.5439 - val_accuracy: 0.9626\n",
            "Epoch 31/100\n",
            "274/274 [==============================] - 3s 12ms/step - loss: 0.6503 - accuracy: 0.9375 - val_loss: 0.5460 - val_accuracy: 0.9630\n",
            "Epoch 32/100\n",
            "274/274 [==============================] - 3s 11ms/step - loss: 0.6493 - accuracy: 0.9361 - val_loss: 0.5624 - val_accuracy: 0.9599\n",
            "Epoch 33/100\n",
            "274/274 [==============================] - 3s 10ms/step - loss: 0.6411 - accuracy: 0.9395 - val_loss: 0.5581 - val_accuracy: 0.9608\n",
            "Epoch 34/100\n",
            "274/274 [==============================] - 3s 10ms/step - loss: 0.6278 - accuracy: 0.9409 - val_loss: 0.5274 - val_accuracy: 0.9681\n",
            "Epoch 35/100\n",
            "274/274 [==============================] - 3s 10ms/step - loss: 0.6357 - accuracy: 0.9411 - val_loss: 0.5322 - val_accuracy: 0.9649\n",
            "Epoch 36/100\n",
            "274/274 [==============================] - 4s 13ms/step - loss: 0.6192 - accuracy: 0.9416 - val_loss: 0.5325 - val_accuracy: 0.9667\n",
            "Epoch 37/100\n",
            "274/274 [==============================] - 3s 10ms/step - loss: 0.6087 - accuracy: 0.9441 - val_loss: 0.5111 - val_accuracy: 0.9640\n",
            "Epoch 38/100\n",
            "274/274 [==============================] - 4s 14ms/step - loss: 0.6107 - accuracy: 0.9428 - val_loss: 0.5015 - val_accuracy: 0.9708\n",
            "Epoch 39/100\n",
            "274/274 [==============================] - 5s 19ms/step - loss: 0.6165 - accuracy: 0.9435 - val_loss: 0.5357 - val_accuracy: 0.9694\n",
            "Epoch 40/100\n",
            "274/274 [==============================] - 4s 15ms/step - loss: 0.6046 - accuracy: 0.9475 - val_loss: 0.4999 - val_accuracy: 0.9653\n",
            "Epoch 41/100\n",
            "274/274 [==============================] - 3s 10ms/step - loss: 0.5949 - accuracy: 0.9483 - val_loss: 0.5058 - val_accuracy: 0.9731\n",
            "Epoch 42/100\n",
            "274/274 [==============================] - 3s 9ms/step - loss: 0.5937 - accuracy: 0.9503 - val_loss: 0.4738 - val_accuracy: 0.9694\n",
            "Epoch 43/100\n",
            "274/274 [==============================] - 3s 12ms/step - loss: 0.5846 - accuracy: 0.9483 - val_loss: 0.4894 - val_accuracy: 0.9694\n",
            "Epoch 44/100\n",
            "274/274 [==============================] - 3s 12ms/step - loss: 0.5828 - accuracy: 0.9503 - val_loss: 0.4821 - val_accuracy: 0.9699\n",
            "Epoch 45/100\n",
            "274/274 [==============================] - 3s 10ms/step - loss: 0.5863 - accuracy: 0.9489 - val_loss: 0.4871 - val_accuracy: 0.9717\n",
            "Epoch 46/100\n",
            "274/274 [==============================] - 3s 10ms/step - loss: 0.5710 - accuracy: 0.9501 - val_loss: 0.4649 - val_accuracy: 0.9717\n",
            "Epoch 47/100\n",
            "274/274 [==============================] - 3s 10ms/step - loss: 0.5705 - accuracy: 0.9514 - val_loss: 0.4917 - val_accuracy: 0.9726\n",
            "Epoch 48/100\n",
            "274/274 [==============================] - 4s 13ms/step - loss: 0.5682 - accuracy: 0.9506 - val_loss: 0.4858 - val_accuracy: 0.9694\n",
            "Epoch 49/100\n",
            "274/274 [==============================] - 3s 10ms/step - loss: 0.5643 - accuracy: 0.9516 - val_loss: 0.4997 - val_accuracy: 0.9685\n",
            "Epoch 50/100\n",
            "274/274 [==============================] - 3s 10ms/step - loss: 0.5621 - accuracy: 0.9516 - val_loss: 0.4820 - val_accuracy: 0.9690\n",
            "Epoch 51/100\n",
            "274/274 [==============================] - 3s 10ms/step - loss: 0.5678 - accuracy: 0.9506 - val_loss: 0.4784 - val_accuracy: 0.9740\n"
          ]
        }
      ],
      "source": [
        "# Train the model\n",
        "history = model.fit(X_train, y_train, epochs=100, batch_size=32, validation_data=(X_test, y_test),\n",
        "                    callbacks=[early_stopping])"
      ]
    },
    {
      "cell_type": "code",
      "execution_count": 15,
      "metadata": {
        "id": "BG3f-JHMO-oo",
        "colab": {
          "base_uri": "https://localhost:8080/"
        },
        "outputId": "98244470-4722-454f-e7d7-b6d8eeb45fb2"
      },
      "outputs": [
        {
          "output_type": "stream",
          "name": "stdout",
          "text": [
            "69/69 [==============================] - 0s 3ms/step - loss: 0.4784 - accuracy: 0.9740\n",
            "Accuracy: 0.9739963412284851\n"
          ]
        }
      ],
      "source": [
        "# Evaluate the model on the test data\n",
        "loss, accuracy = model.evaluate(X_test, y_test)\n",
        "print('Accuracy:', accuracy)"
      ]
    },
    {
      "cell_type": "markdown",
      "source": [
        "# **DATA SHOW**"
      ],
      "metadata": {
        "id": "MSkfJmchf85s"
      }
    },
    {
      "cell_type": "code",
      "source": [
        "# Ambil data rating dari dataset\n",
        "ratings = data['rating']\n",
        "\n",
        "# Hitung frekuensi masing-masing rating\n",
        "rating_counts = ratings.value_counts().sort_index()\n",
        "\n",
        "# Buat grafik titik garis\n",
        "plt.plot(rating_counts.index, rating_counts.values, marker='o', linestyle='-')\n",
        "\n",
        "# Atur label dan judul\n",
        "plt.xlabel('Rating')\n",
        "plt.ylabel('Frequency')\n",
        "plt.title('Distribution of Ratings')\n",
        "\n",
        "# Tampilkan grafik\n",
        "plt.show()"
      ],
      "metadata": {
        "colab": {
          "base_uri": "https://localhost:8080/",
          "height": 472
        },
        "id": "7ApSHkT8f746",
        "outputId": "899aab87-e229-49d2-cc6e-d78bac83560f"
      },
      "execution_count": 16,
      "outputs": [
        {
          "output_type": "display_data",
          "data": {
            "text/plain": [
              "<Figure size 640x480 with 1 Axes>"
            ],
            "image/png": "[encoded data removed]"
          },
          "metadata": {}
        }
      ]
    },
    {
      "cell_type": "code",
      "source": [
        "# Menentukan rentang harga\n",
        "price_ranges = ['10,000-20,000', '20,000-30,000', '30,000-50,000', '50,000-10,000', '>100,000']\n",
        "\n",
        "# Mengelompokkan data berdasarkan rentang harga\n",
        "data['price_range'] = pd.cut(data['price'], bins=[10000, 20000, 30000, 50000, 100000, float('inf')], labels=price_ranges)\n",
        "\n",
        "# Menghitung jumlah entri dalam setiap rentang harga\n",
        "price_counts = data['price_range'].value_counts().sort_index()\n",
        "\n",
        "# Membuat grafik batang\n",
        "plt.bar(price_counts.index, price_counts.values)\n",
        "\n",
        "# Mengatur label dan judul\n",
        "plt.xlabel('Price Range')\n",
        "plt.ylabel('Count')\n",
        "plt.title('Distribution of Prices')\n",
        "\n",
        "# Atur rotasi label jika diperlukan\n",
        "plt.xticks(rotation=60)\n",
        "\n",
        "# Menampilkan grafik\n",
        "plt.show()"
      ],
      "metadata": {
        "colab": {
          "base_uri": "https://localhost:8080/",
          "height": 552
        },
        "id": "HDbdv87AgQYA",
        "outputId": "ffb6ddeb-dcda-4209-b7cc-59dc64c1aefd"
      },
      "execution_count": 17,
      "outputs": [
        {
          "output_type": "display_data",
          "data": {
            "text/plain": [
              "<Figure size 640x480 with 1 Axes>"
            ],
            "image/png": "[encoded data removed]"
          },
          "metadata": {}
        }
      ]
    },
    {
      "cell_type": "code",
      "source": [
        "# Ambil data sub kategori dari dataset\n",
        "sub_categories = data['sub_category']\n",
        "\n",
        "# Hitung jumlah kemunculan setiap sub kategori\n",
        "sub_category_counts = sub_categories.value_counts()\n",
        "\n",
        "# Buat grafik batang\n",
        "plt.bar(sub_category_counts.index, sub_category_counts.values)\n",
        "\n",
        "# Atur label dan judul\n",
        "plt.xlabel('Sub Category')\n",
        "plt.ylabel('Count')\n",
        "plt.title('Distribution of Sub Categories')\n",
        "\n",
        "# Atur rotasi label jika diperlukan\n",
        "plt.xticks(rotation=90)\n",
        "\n",
        "# Tampilkan grafik\n",
        "plt.show()"
      ],
      "metadata": {
        "colab": {
          "base_uri": "https://localhost:8080/",
          "height": 573
        },
        "id": "eNwlWyeLgRwu",
        "outputId": "9f52ddb4-18cf-4c38-f68c-20263ffb4185"
      },
      "execution_count": 18,
      "outputs": [
        {
          "output_type": "display_data",
          "data": {
            "text/plain": [
              "<Figure size 640x480 with 1 Axes>"
            ],
            "image/png": "[encoded data removed]"
          },
          "metadata": {}
        }
      ]
    },
    {
      "cell_type": "code",
      "source": [
        "# Plot the chart for accuracy and loss on both training and validation\n",
        "acc = history.history['accuracy']\n",
        "val_acc = history.history['val_accuracy']\n",
        "loss = history.history['loss']\n",
        "val_loss = history.history['val_loss']\n",
        "\n",
        "epochs = range(len(acc))\n",
        "\n",
        "plt.plot(epochs, acc, 'r', label='Training accuracy')\n",
        "plt.plot(epochs, val_acc, 'b', label='Validation accuracy')\n",
        "plt.title('Training and validation accuracy')\n",
        "plt.legend()\n",
        "plt.figure()\n",
        "\n",
        "plt.plot(epochs, loss, 'r', label='Training Loss')\n",
        "plt.plot(epochs, val_loss, 'b', label='Validation Loss')\n",
        "plt.title('Training and validation loss')\n",
        "plt.legend()\n",
        "\n",
        "plt.show()"
      ],
      "metadata": {
        "colab": {
          "base_uri": "https://localhost:8080/",
          "height": 887
        },
        "id": "Rb-PvMP9gWA9",
        "outputId": "aada17cd-822a-4c72-b1ab-ddc9a1eabfd4"
      },
      "execution_count": 19,
      "outputs": [
        {
          "output_type": "display_data",
          "data": {
            "text/plain": [
              "<Figure size 640x480 with 1 Axes>"
            ],
            "image/png": "[encoded data removed]"
          },
          "metadata": {}
        },
        {
          "output_type": "display_data",
          "data": {
            "text/plain": [
              "<Figure size 640x480 with 1 Axes>"
            ],
            "image/png": "[encoded data removed]"
          },
          "metadata": {}
        }
      ]
    },
    {
      "cell_type": "markdown",
      "source": [
        "# **SAVE MODEL**"
      ],
      "metadata": {
        "id": "Ele9FD-hjE81"
      }
    },
    {
      "cell_type": "code",
      "source": [
        "# Define the directory to save the model\n",
        "save_dir = '/content/saved_models'\n",
        "\n",
        "# Create the directory if it doesn't exist\n",
        "os.makedirs(save_dir, exist_ok=True)\n",
        "\n",
        "# Define the filename for the saved model\n",
        "model_filename = 'modelCapstone.h5'\n",
        "\n",
        "# Construct the complete path\n",
        "saved_model_path = os.path.join(save_dir, model_filename)\n",
        "\n",
        "# Save the trained model\n",
        "model.save(saved_model_path)\n",
        "\n",
        "h5_model_path = '/content/saved_models/modelCapstone.h5'\n",
        "model = tf.keras.models.load_model(h5_model_path)\n",
        "\n",
        "tf.saved_model.save(model, save_dir)"
      ],
      "metadata": {
        "colab": {
          "base_uri": "https://localhost:8080/"
        },
        "id": "rxz6In8CjGvk",
        "outputId": "e36d4fd0-e29c-4f65-df4c-da5e6f7e1ab7"
      },
      "execution_count": 20,
      "outputs": [
        {
          "output_type": "stream",
          "name": "stderr",
          "text": [
            "WARNING:absl:Found untraced functions such as _update_step_xla while saving (showing 1 of 1). These functions will not be directly callable after loading.\n"
          ]
        }
      ]
    },
    {
      "cell_type": "markdown",
      "source": [
        "# **CONVERT TFLITE**"
      ],
      "metadata": {
        "id": "dnoJtRDW8BFb"
      }
    },
    {
      "cell_type": "code",
      "source": [
        "# Create nested directories\n",
        "!mkdir -p /content/convert/converttflite\n",
        "\n",
        "tfjs_target_dir_lite = \"/content/convert/converttflite\"\n",
        "\n",
        "converter = tf.lite.TFLiteConverter.from_saved_model(save_dir)\n",
        "tflite_model = converter.convert()\n",
        "\n",
        "# Save the TFLite model to a file\n",
        "tflite_model_path = \"/content/convert/converttflite/modelCapstone.tflite\"\n",
        "with open(tflite_model_path, 'wb') as f:\n",
        "    f.write(tflite_model)"
      ],
      "metadata": {
        "id": "Cd_N3bse8FLs"
      },
      "execution_count": 21,
      "outputs": []
    },
    {
      "cell_type": "markdown",
      "source": [
        "# **TEST TFLITE**"
      ],
      "metadata": {
        "id": "VZQS7MaHBDJ-"
      }
    },
    {
      "cell_type": "code",
      "source": [
        "# Load the TFLite model\n",
        "tflite_model_path = \"/content/convert/converttflite/modelCapstone.tflite\"\n",
        "interpreter = tf.lite.Interpreter(model_path=tflite_model_path)\n",
        "interpreter.allocate_tensors()\n",
        "input_details = interpreter.get_input_details()\n",
        "output_details = interpreter.get_output_details()"
      ],
      "metadata": {
        "id": "MmufpSrTBHwX"
      },
      "execution_count": 22,
      "outputs": []
    },
    {
      "cell_type": "code",
      "source": [
        "def predict_and_recommend_products(price, sub_category, data):\n",
        "    if sub_category not in data['sub_category'].values:\n",
        "        print(f\"Sub kategori {sub_category} tidak ditemukan dalam data.\")\n",
        "        return None\n",
        "\n",
        "    # Create a dataframe with the input data\n",
        "    input_data = pd.DataFrame({'price': [price], 'sub_category': [sub_category]})\n",
        "    \n",
        "    # Preprocess the input data\n",
        "    input_data['rating'] = data['rating'].mean()  # Set the rating as the average rating in the dataset\n",
        "    input_data['sub_category_encoded'] = label_encoder.transform(input_data['sub_category'])\n",
        "    input_data['combined_features'] = input_data[['sub_category']].apply(lambda x: ' '.join(x), axis=1)\n",
        "    \n",
        "    # Transform the input data using the CountVectorizer\n",
        "    input_features = cv.transform(input_data['combined_features']).toarray().astype(np.float32)\n",
        "    \n",
        "    # Make predictions using the TensorFlow Lite model\n",
        "    interpreter.set_tensor(input_details[0]['index'], input_features)\n",
        "    interpreter.invoke()\n",
        "    predictions = interpreter.get_tensor(output_details[0]['index'])\n",
        "    \n",
        "    # Get the predicted class label\n",
        "    predicted_class = np.argmax(predictions)\n",
        "    \n",
        "    # Filter the data based on the predicted class label and price range\n",
        "    filtered_data = data[(data['sub_category_encoded'] == predicted_class) & (data['price'] <= price)]\n",
        "    \n",
        "    # Check if any recommendations are found\n",
        "    if filtered_data.empty:\n",
        "        print(f'Tidak ada rekomendasi yang sesuai dengan jumlah uang Rp. {price}')\n",
        "        return None\n",
        "\n",
        "    # Sort the filtered data based on rating in descending order, then by price in ascending order\n",
        "    sorted_data = filtered_data.sort_values(by=['rating', 'price'], ascending=[False, False])\n",
        "    \n",
        "    # Select the top 10 recommended products\n",
        "    recommended_products = pd.DataFrame()\n",
        "    merchant_counts = {}  # Dictionary to store the count of recommendations for each merchant\n",
        "    \n",
        "    for _, row in sorted_data.iterrows():\n",
        "        merchant_name = row['merchant_name']\n",
        "        \n",
        "        if merchant_name not in merchant_counts:\n",
        "            merchant_counts[merchant_name] = 0\n",
        "        \n",
        "        if merchant_counts[merchant_name] < 1:\n",
        "            recommended_products = pd.concat([recommended_products, row.to_frame().T])\n",
        "            merchant_counts[merchant_name] += 1\n",
        "\n",
        "    return recommended_products[['product', 'merchant_name', 'price', 'rating']]"
      ],
      "metadata": {
        "id": "zpabZ15OBfej"
      },
      "execution_count": 23,
      "outputs": []
    },
    {
      "cell_type": "code",
      "source": [
        "money = float(input(\"Masukkan jumlah uang: \"))\n",
        "sub_category = input(\"Masukkan sub kategori: \")\n",
        "recommended_products = predict_and_recommend_products(money, sub_category, data)\n",
        "\n",
        "# Check if any recommendations are found\n",
        "if recommended_products is None:\n",
        "    # Program finished when there are no recommendations\n",
        "    pass\n",
        "else:\n",
        "    # Print the recommended products with merchant, price, and rating\n",
        "    print('Recommended Products:')\n",
        "    try:\n",
        "        for i, row in recommended_products.iterrows():\n",
        "            product = row['product']\n",
        "            merchant_name = row['merchant_name']\n",
        "            price = row['price']\n",
        "            rating = row['rating']\n",
        "            print(f'{i + 1}. Product: {product}')\n",
        "            print(f'   Merchant: {merchant_name}')\n",
        "            print(f'   Price: {price}')\n",
        "            print(f'   Rating: {rating}\\n')\n",
        "    except AttributeError:\n",
        "        print(\"ERROR\")"
      ],
      "metadata": {
        "colab": {
          "base_uri": "https://localhost:8080/"
        },
        "id": "p-jP8LlaIP5d",
        "outputId": "13aa457b-60ef-404b-987a-5d957270b04f"
      },
      "execution_count": 24,
      "outputs": [
        {
          "output_type": "stream",
          "name": "stdout",
          "text": [
            "Masukkan jumlah uang: 25000\n",
            "Masukkan sub kategori: jajanan\n",
            "Recommended Products:\n",
            "3140. Product: Siomay Sultan\n",
            "   Merchant: Kedai Coger Senayan\n",
            "   Price: 24000.0\n",
            "   Rating: 4.9\n",
            "\n",
            "4254. Product: French Toast Smocked Beef Cheese Sandwich\n",
            "   Merchant: Lawson, Kemang Raya\n",
            "   Price: 25000.0\n",
            "   Rating: 4.8\n",
            "\n",
            "2043. Product: Fried Egg\n",
            "   Merchant: farm.girl, SCBD\n",
            "   Price: 24000.0\n",
            "   Rating: 4.8\n",
            "\n",
            "7340. Product: Indomie Goreng Jumbo\n",
            "   Merchant: Toko Kopi Bacarita\n",
            "   Price: 24000.0\n",
            "   Rating: 4.8\n",
            "\n",
            "3349. Product: Pukis 5Pc\n",
            "   Merchant: KFC, Bintaro 9\n",
            "   Price: 23000.0\n",
            "   Rating: 4.8\n",
            "\n",
            "3462. Product: Pukis 5Pc\n",
            "   Merchant: KFC, Kemang Timur\n",
            "   Price: 23000.0\n",
            "   Rating: 4.8\n",
            "\n",
            "2129. Product: Stainless Straw\n",
            "   Merchant: Fore Coffee, Jatiwaringin\n",
            "   Price: 22000.0\n",
            "   Rating: 4.8\n",
            "\n",
            "5376. Product: McNuggets 4 pcs\n",
            "   Merchant: McDonald's, Panjang\n",
            "   Price: 22000.0\n",
            "   Rating: 4.8\n",
            "\n",
            "5584. Product: McNuggets 4 pcs\n",
            "   Merchant: McDonald's, Tambak\n",
            "   Price: 22000.0\n",
            "   Rating: 4.8\n",
            "\n",
            "708. Product: French Fries Large\n",
            "   Merchant: Burger Bros, Bintaro\n",
            "   Price: 19990.0\n",
            "   Rating: 4.8\n",
            "\n",
            "2300. Product: Oatmeal Cookies Mini\n",
            "   Merchant: Greenly, Senopati\n",
            "   Price: 18000.0\n",
            "   Rating: 4.8\n",
            "\n",
            "10391. Product: Honey Lemon\n",
            "   Merchant: Shihlin Ciputra Cibubur\n",
            "   Price: 13000.0\n",
            "   Rating: 4.8\n",
            "\n",
            "409. Product: Extra Mayonnaise Sachet..\n",
            "   Merchant: Banzai!, Bogor Utara\n",
            "   Price: 1500.0\n",
            "   Rating: 4.8\n",
            "\n",
            "1046. Product: Mochi Cream Matcha\n",
            "   Merchant: Chateraise, Senayan City\n",
            "   Price: 25000.0\n",
            "   Rating: 4.7\n",
            "\n",
            "1168. Product: Tteokbokki Original\n",
            "   Merchant: Corndog Doona, Pinang\n",
            "   Price: 25000.0\n",
            "   Rating: 4.7\n",
            "\n",
            "1225. Product: Fries Cheesy\n",
            "   Merchant: Cotta Coffee, Jatiwaringin\n",
            "   Price: 25000.0\n",
            "   Rating: 4.7\n",
            "\n",
            "4127. Product: French Toast Smocked Beef Cheese Sandwich\n",
            "   Merchant: Lawson, Cipete Raya\n",
            "   Price: 25000.0\n",
            "   Rating: 4.7\n",
            "\n",
            "4754. Product: French Toast Smocked Beef Cheese Sandwich\n",
            "   Merchant: Lawson, UIN Kertamukti\n",
            "   Price: 25000.0\n",
            "   Rating: 4.7\n",
            "\n",
            "5733. Product: Donut (4 pcs)\n",
            "   Merchant: Michelle Bakery, Cimanggis\n",
            "   Price: 25000.0\n",
            "   Rating: 4.7\n",
            "\n",
            "6837. Product: Seblak Telor Tulang Sayap\n",
            "   Merchant: Seblak Nova, Cimanggis\n",
            "   Price: 25000.0\n",
            "   Rating: 4.7\n",
            "\n",
            "1724. Product: Extra Sambal Large\n",
            "   Merchant: Emados Shawarma, Condet\n",
            "   Price: 24200.0\n",
            "   Rating: 4.7\n",
            "\n",
            "1766. Product: Extra Sambal Large\n",
            "   Merchant: Emados Shawarma, Depok\n",
            "   Price: 24200.0\n",
            "   Rating: 4.7\n",
            "\n",
            "2408. Product: Crispy Pork Skin Large\n",
            "   Merchant: Hoghock, Greenlake City\n",
            "   Price: 24200.0\n",
            "   Rating: 4.7\n",
            "\n",
            "2900. Product: Matcha Kakigori\n",
            "   Merchant: Kaka Udon\n",
            "   Price: 24000.0\n",
            "   Rating: 4.7\n",
            "\n",
            "845. Product: Make - A - Meal\n",
            "   Merchant: Burger Bros, Ciledug\n",
            "   Price: 23990.0\n",
            "   Rating: 4.7\n",
            "\n",
            "3404. Product: Pukis 5Pc\n",
            "   Merchant: KFC, Ciputat Gaplek\n",
            "   Price: 23000.0\n",
            "   Rating: 4.7\n",
            "\n",
            "3470. Product: 1pcs Creampuff Coffee Nescafe\n",
            "   Merchant: KFC, Lokasari Plaza\n",
            "   Price: 23000.0\n",
            "   Rating: 4.7\n",
            "\n",
            "452. Product: Cah Kangkung Seafood\n",
            "   Merchant: Bebek Boedjang, BSD\n",
            "   Price: 22850.0\n",
            "   Rating: 4.7\n",
            "\n",
            "5270. Product: McNuggets 4 pcs\n",
            "   Merchant: McDonald's, Jatiwarna\n",
            "   Price: 22000.0\n",
            "   Rating: 4.7\n",
            "\n",
            "5482. Product: McNuggets 4 pcs\n",
            "   Merchant: McDonald's, Pekayon\n",
            "   Price: 22000.0\n",
            "   Rating: 4.7\n",
            "\n",
            "2620. Product: Disney Taartjes Siram Coklat\n",
            "   Merchant: Holland Bakery, Ciomas\n",
            "   Price: 17300.0\n",
            "   Rating: 4.7\n",
            "\n",
            "2220. Product: Pangsit Goreng\n",
            "   Merchant: Golden Lamian, Jatiwaringin\n",
            "   Price: 15000.0\n",
            "   Rating: 4.7\n",
            "\n",
            "1853. Product: Extra Mayonnaise - Sachet\n",
            "   Merchant: Faasos, Blok M\n",
            "   Price: 1500.0\n",
            "   Rating: 4.7\n",
            "\n",
            "1917. Product: Blackpepper Chicken Rice\n",
            "   Merchant: FamilyMart, Sequis Tower\n",
            "   Price: 25000.0\n",
            "   Rating: 4.6\n",
            "\n",
            "3042. Product: Kebab Original Jumbo\n",
            "   Merchant: Kebab Bosman, Gandul\n",
            "   Price: 25000.0\n",
            "   Rating: 4.6\n",
            "\n",
            "3780. Product: Curros Topping Cokelat\n",
            "   Merchant: Kopi Kebun Bintaro\n",
            "   Price: 25000.0\n",
            "   Rating: 4.6\n",
            "\n",
            "3786. Product: Cireng Sambal Rujak\n",
            "   Merchant: Kopi Nako Ciracas\n",
            "   Price: 25000.0\n",
            "   Rating: 4.6\n",
            "\n",
            "4004. Product: French Toast Smocked Beef Cheese Sandwich\n",
            "   Merchant: Lawson, Cempaka Mas\n",
            "   Price: 25000.0\n",
            "   Rating: 4.6\n",
            "\n",
            "3569. Product: Pukis 5Pc\n",
            "   Merchant: KFC, Tugu Puncak\n",
            "   Price: 23000.0\n",
            "   Rating: 4.6\n",
            "\n",
            "1536. Product: Birthday Girl\n",
            "   Merchant: Dapur Cokelat, Ciracas\n",
            "   Price: 21000.0\n",
            "   Rating: 4.6\n",
            "\n",
            "3738. Product: Homemade Chocolate Cookies\n",
            "   Merchant: Kopi Chuseyo, Sukasari\n",
            "   Price: 20000.0\n",
            "   Rating: 4.6\n",
            "\n",
            "7242. Product: Chicken Popcron\n",
            "   Merchant: Tettakopi\n",
            "   Price: 20000.0\n",
            "   Rating: 4.6\n",
            "\n",
            "2389. Product: WOY X-tra Spicy Corn Dog Sausage\n",
            "   Merchant: Hey Kafe, Cipondoh\n",
            "   Price: 19000.0\n",
            "   Rating: 4.6\n",
            "\n",
            "1247. Product: Pork Popcorn\n",
            "   Merchant: Crackling\n",
            "   Price: 12500.0\n",
            "   Rating: 4.6\n",
            "\n",
            "370. Product: Krupuk\n",
            "   Merchant: Bakso Titoti, Parung\n",
            "   Price: 8000.0\n",
            "   Rating: 4.6\n",
            "\n",
            "161. Product: Telor Gulung Isi\n",
            "   Merchant: BABAKARAN BUNDA DAFA\n",
            "   Price: 25000.0\n",
            "   Rating: 4.567012908430819\n",
            "\n",
            "902. Product: Nasi Goreng C7\n",
            "   Merchant: C7HomeCoffee\n",
            "   Price: 25000.0\n",
            "   Rating: 4.567012908430819\n",
            "\n",
            "7188. Product: Waffle Potato\n",
            "   Merchant: SYMAXTY NINE COFFEE\n",
            "   Price: 25000.0\n",
            "   Rating: 4.567012908430819\n",
            "\n",
            "7233. Product: Cireng Saus Rujak\n",
            "   Merchant: Tao Cafe\n",
            "   Price: 24500.0\n",
            "   Rating: 4.567012908430819\n",
            "\n",
            "2373. Product: Ikan Mujaer\n",
            "   Merchant: Hedon Cafe, Sukatani\n",
            "   Price: 23000.0\n",
            "   Rating: 4.567012908430819\n",
            "\n",
            "7057. Product: Sosis Bakar Sedang Isi 3 Tusuk\n",
            "   Merchant: Sosis Bakar Gangan\n",
            "   Price: 19000.0\n",
            "   Rating: 4.567012908430819\n",
            "\n",
            "1218. Product: Corndog Mozarella Taro Keju Oreo\n",
            "   Merchant: Corndog Mozarella\n",
            "   Price: 18000.0\n",
            "   Rating: 4.567012908430819\n",
            "\n",
            "2929. Product: Tumis Kangkung\n",
            "   Merchant: KAMPUNG TELAGA,  Ciracas\n",
            "   Price: 18000.0\n",
            "   Rating: 4.567012908430819\n",
            "\n",
            "424. Product: Sosis + Kyentang Oyeng\n",
            "   Merchant: Sosis Bakar By Basis.Kuy, Intercon\n",
            "   Price: 14000.0\n",
            "   Rating: 4.567012908430819\n",
            "\n",
            "2988. Product: Kebab Original Jumbo\n",
            "   Merchant: Kebab Bosman, Ciputat\n",
            "   Price: 25000.0\n",
            "   Rating: 4.5\n",
            "\n",
            "3109. Product: Sistagor (sosis Kentang Goreng)\n",
            "   Merchant: Kebon Samping, Cibinong\n",
            "   Price: 24000.0\n",
            "   Rating: 4.5\n",
            "\n",
            "2835. Product: Oreo\n",
            "   Merchant: JACK DONUT\n",
            "   Price: 4000.0\n",
            "   Rating: 4.5\n",
            "\n",
            "3745. Product: Kentang Goreng Dan Sosis\n",
            "   Merchant: Kopi Dari Hati, Jatibening\n",
            "   Price: 25000.0\n",
            "   Rating: 4.4\n",
            "\n",
            "6202. Product: Pancong Ovaltine Keju Susu\n",
            "   Merchant: Pancong Pijay\n",
            "   Price: 17000.0\n",
            "   Rating: 4.4\n",
            "\n",
            "6344. Product: MIE GORENG SAKURA ISI 2 +TELOR\n",
            "   Merchant: Pita Cappucino Cincau\n",
            "   Price: 16000.0\n",
            "   Rating: 4.4\n",
            "\n",
            "6921. Product: Nasi Jeruk\n",
            "   Merchant: Sei dalam Bambu\n",
            "   Price: 10000.0\n",
            "   Rating: 4.4\n",
            "\n",
            "3072. Product: Kebab Lumer Beef slice large\n",
            "   Merchant: Kebab Lumer\n",
            "   Price: 25000.0\n",
            "   Rating: 4.3\n",
            "\n",
            "4845. Product: Kentang Sosis\n",
            "   Merchant: LEPAS KOPI\n",
            "   Price: 25000.0\n",
            "   Rating: 4.3\n",
            "\n",
            "3812. Product: Kimboo Chicken Strip\n",
            "   Merchant: KOPINYA KIMBOO\n",
            "   Price: 23000.0\n",
            "   Rating: 4.3\n",
            "\n",
            "881. Product: Paket Lengkap Hotdog\n",
            "   Merchant: Burger Naura\n",
            "   Price: 25000.0\n",
            "   Rating: 4.2\n",
            "\n",
            "1278. Product: Spiral\n",
            "   Merchant: Dapur Aliqa, Gembong\n",
            "   Price: 25000.0\n",
            "   Rating: 4.2\n",
            "\n",
            "3880. Product: French Toast Smocked Beef Cheese Sandwich\n",
            "   Merchant: Lawson, Akses UI\n",
            "   Price: 25000.0\n",
            "   Rating: 4.2\n",
            "\n",
            "4380. Product: French Toast Smocked Beef Cheese Sandwich\n",
            "   Merchant: Lawson, Percetakan Negara\n",
            "   Price: 25000.0\n",
            "   Rating: 4.2\n",
            "\n",
            "4631. Product: French Toast Smocked Beef Cheese Sandwich\n",
            "   Merchant: Lawson, Syahdan\n",
            "   Price: 25000.0\n",
            "   Rating: 4.2\n",
            "\n",
            "7453. Product: Popcorn Salt Small\n",
            "   Merchant: XXI Cafe, PGC\n",
            "   Price: 25000.0\n",
            "   Rating: 4.2\n",
            "\n",
            "1464. Product: Birthday Girl\n",
            "   Merchant: Dapur Cokelat, Ciputat\n",
            "   Price: 21000.0\n",
            "   Rating: 4.2\n",
            "\n",
            "4506. Product: French Toast Smocked Beef Cheese Sandwich\n",
            "   Merchant: Lawson, Sunter Kirana\n",
            "   Price: 25000.0\n",
            "   Rating: 4.1\n",
            "\n",
            "6188. Product: Pancong Nanas + PISBAK Coklat\n",
            "   Merchant: Pancong Lumer\n",
            "   Price: 23500.0\n",
            "   Rating: 3.7\n",
            "\n",
            "2. Product: Roti Bakar\n",
            "   Merchant: 330 Kopi, Ciledug\n",
            "   Price: 22500.0\n",
            "   Rating: 3.6\n",
            "\n",
            "2100. Product: Beef Supreme\n",
            "   Merchant: FlapnJac, Setiabudi Barat\n",
            "   Price: 23000.0\n",
            "   Rating: 3.5\n",
            "\n",
            "6806. Product: SEBLAK SHUKI KOMPLIT\n",
            "   Merchant: Seblak, Cibinong\n",
            "   Price: 24000.0\n",
            "   Rating: 3.3\n",
            "\n",
            "2316. Product: Sambal Matah\n",
            "   Merchant: GUREE, Senopati\n",
            "   Price: 7000.0\n",
            "   Rating: 3.0\n",
            "\n"
          ]
        }
      ]
    }
  ],
  "metadata": {
    "colab": {
      "provenance": [],
      "collapsed_sections": [
        "w7Tluw4D1g4W",
        "MSkfJmchf85s",
        "dnoJtRDW8BFb",
        "VZQS7MaHBDJ-"
      ]
    },
    "kernelspec": {
      "display_name": "Python 3",
      "name": "python3"
    },
    "language_info": {
      "name": "python"
    }
  },
  "nbformat": 4,
  "nbformat_minor": 0
}